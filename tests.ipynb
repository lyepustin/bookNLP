{
 "cells": [
  {
   "attachments": {},
   "cell_type": "markdown",
   "id": "359697d5",
   "metadata": {},
   "source": [
    "# LangChain Fundamentals 📚📚"
   ]
  },
  {
   "cell_type": "code",
   "execution_count": 11,
   "id": "e9815081",
   "metadata": {
    "hide_input": false
   },
   "outputs": [
    {
     "name": "stdout",
     "output_type": "stream",
     "text": [
      "Requirement already satisfied: geopandas in /opt/homebrew/lib/python3.11/site-packages (0.14.0)\n",
      "Requirement already satisfied: fiona>=1.8.21 in /opt/homebrew/lib/python3.11/site-packages (from geopandas) (1.9.4.post1)\n",
      "Requirement already satisfied: packaging in /opt/homebrew/lib/python3.11/site-packages (from geopandas) (23.1)\n",
      "Requirement already satisfied: pandas>=1.4.0 in /opt/homebrew/lib/python3.11/site-packages (from geopandas) (2.1.0)\n",
      "Requirement already satisfied: pyproj>=3.3.0 in /opt/homebrew/lib/python3.11/site-packages (from geopandas) (3.6.1)\n",
      "Requirement already satisfied: shapely>=1.8.0 in /opt/homebrew/lib/python3.11/site-packages (from geopandas) (2.0.1)\n",
      "Requirement already satisfied: attrs>=19.2.0 in /opt/homebrew/lib/python3.11/site-packages (from fiona>=1.8.21->geopandas) (23.1.0)\n",
      "Requirement already satisfied: certifi in /opt/homebrew/lib/python3.11/site-packages (from fiona>=1.8.21->geopandas) (2023.7.22)\n",
      "Requirement already satisfied: click~=8.0 in /opt/homebrew/lib/python3.11/site-packages (from fiona>=1.8.21->geopandas) (8.1.7)\n",
      "Requirement already satisfied: click-plugins>=1.0 in /opt/homebrew/lib/python3.11/site-packages (from fiona>=1.8.21->geopandas) (1.1.1)\n",
      "Requirement already satisfied: cligj>=0.5 in /opt/homebrew/lib/python3.11/site-packages (from fiona>=1.8.21->geopandas) (0.7.2)\n",
      "Requirement already satisfied: six in /opt/homebrew/lib/python3.11/site-packages (from fiona>=1.8.21->geopandas) (1.16.0)\n",
      "Requirement already satisfied: numpy>=1.23.2 in /opt/homebrew/lib/python3.11/site-packages (from pandas>=1.4.0->geopandas) (1.25.2)\n",
      "Requirement already satisfied: python-dateutil>=2.8.2 in /opt/homebrew/lib/python3.11/site-packages (from pandas>=1.4.0->geopandas) (2.8.2)\n",
      "Requirement already satisfied: pytz>=2020.1 in /opt/homebrew/lib/python3.11/site-packages (from pandas>=1.4.0->geopandas) (2023.3)\n",
      "Requirement already satisfied: tzdata>=2022.1 in /opt/homebrew/lib/python3.11/site-packages (from pandas>=1.4.0->geopandas) (2023.3)\n",
      "\u001b[33mDEPRECATION: torchsde 0.2.5 has a non-standard dependency specifier numpy>=1.19.*; python_version >= \"3.7\". pip 23.3 will enforce this behaviour change. A possible replacement is to upgrade to a newer version of torchsde or contact the author to suggest that they release a version with a conforming dependency specifiers. Discussion can be found at https://github.com/pypa/pip/issues/12063\u001b[0m\u001b[33m\n",
      "\u001b[0mNote: you may need to restart the kernel to use updated packages.\n"
     ]
    }
   ],
   "source": [
    "pip install geopandas\n"
   ]
  },
  {
   "cell_type": "code",
   "execution_count": 17,
   "id": "abe7691b",
   "metadata": {},
   "outputs": [
    {
     "name": "stdout",
     "output_type": "stream",
     "text": [
      "GeoDataFrame:\n",
      "   ID   Latitude  Longitude                   geometry\n",
      "0   1  38.085010  -0.948382  POINT (-0.94838 38.08501)\n",
      "1   2  38.117402  -0.952836  POINT (-0.95284 38.11740)\n",
      "\n",
      "Distance between the two points: 4.590148470149924 kilometers\n"
     ]
    }
   ],
   "source": [
    "import geopandas as gpd\n",
    "from shapely.geometry import Point\n",
    "\n",
    "# Create GeoDataFrame with two points\n",
    "data = {'ID': [1, 2],\n",
    "        'Latitude': [38.0850095210875, 38.11740218562655 ],\n",
    "        'Longitude': [-0.9483816545176874, -0.9528362878196897]}\n",
    "\n",
    "geometry = [Point(lon, lat) for lon, lat in zip(data['Longitude'], data['Latitude'])]\n",
    "gdf = gpd.GeoDataFrame(data, geometry=geometry, crs=\"EPSG:4326\")  # Set CRS to EPSG:4326 (WGS 84)\n",
    "\n",
    "# Print the GeoDataFrame\n",
    "print(\"GeoDataFrame:\")\n",
    "print(gdf)\n",
    "\n",
    "# Reproject to a CRS that uses meters (e.g., EPSG:3395, World Mercator)\n",
    "gdf = gdf.to_crs(\"EPSG:3395\")\n",
    "\n",
    "# Calculate distance between the two points using haversine\n",
    "distance = gdf.distance(gdf.shift())  # Shift the GeoDataFrame and calculate distance\n",
    "distance_km = distance.to_numpy()[1] / 1000  # Convert distance to kilometers\n",
    "\n",
    "print(\"\\nDistance between the two points:\", distance_km, \"kilometers\")\n"
   ]
  }
 ],
 "metadata": {
  "kernelspec": {
   "display_name": "Python 3",
   "language": "python",
   "name": "python3"
  },
  "language_info": {
   "codemirror_mode": {
    "name": "ipython",
    "version": 3
   },
   "file_extension": ".py",
   "mimetype": "text/x-python",
   "name": "python",
   "nbconvert_exporter": "python",
   "pygments_lexer": "ipython3",
   "version": "3.11.5"
  }
 },
 "nbformat": 4,
 "nbformat_minor": 5
}
